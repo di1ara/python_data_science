{
 "cells": [
  {
   "cell_type": "code",
   "execution_count": 1,
   "id": "33df05e9-75f1-422b-8a6b-d95e4db2b2c1",
   "metadata": {},
   "outputs": [],
   "source": [
    "import numpy as np\n",
    "import matplotlib.pyplot as plt\n",
    "import pandas as pd"
   ]
  },
  {
   "cell_type": "code",
   "execution_count": 6,
   "id": "c9622362-9aac-473b-bebf-69777328f8ce",
   "metadata": {},
   "outputs": [
    {
     "data": {
      "text/plain": [
       "Int64Index([0, 1, 2, 3, 5], dtype='int64')"
      ]
     },
     "execution_count": 6,
     "metadata": {},
     "output_type": "execute_result"
    }
   ],
   "source": [
    "pd.Series([1,2,3, \"foo\", np.nan, \"bar\"]).dropna().index"
   ]
  },
  {
   "cell_type": "code",
   "execution_count": 8,
   "id": "5f6b4f10-fa61-4511-9a9c-60099769a9e0",
   "metadata": {},
   "outputs": [
    {
     "data": {
      "text/plain": [
       "a    0.461275\n",
       "b   -1.402621\n",
       "c   -0.411482\n",
       "d    0.166970\n",
       "e   -0.442485\n",
       "dtype: float64"
      ]
     },
     "execution_count": 8,
     "metadata": {},
     "output_type": "execute_result"
    }
   ],
   "source": [
    "from numpy.random import default_rng\n",
    "rng = default_rng()\n",
    "s = pd.Series(rng.standard_normal(5), index=[\"a\", \"b\", \"c\", \"d\", \"e\"])\n",
    "s"
   ]
  },
  {
   "cell_type": "code",
   "execution_count": 9,
   "id": "6a2611a5-3f7e-4c83-940d-df2000e86fb9",
   "metadata": {},
   "outputs": [
    {
     "data": {
      "text/plain": [
       "0.4612752399986383"
      ]
     },
     "execution_count": 9,
     "metadata": {},
     "output_type": "execute_result"
    }
   ],
   "source": [
    "s[0]"
   ]
  },
  {
   "cell_type": "code",
   "execution_count": 10,
   "id": "676a95e9-dc4c-49cf-a176-eb249ad9fbad",
   "metadata": {},
   "outputs": [
    {
     "data": {
      "text/plain": [
       "b   -1.402621\n",
       "c   -0.411482\n",
       "dtype: float64"
      ]
     },
     "execution_count": 10,
     "metadata": {},
     "output_type": "execute_result"
    }
   ],
   "source": [
    "s[1:3]"
   ]
  },
  {
   "cell_type": "code",
   "execution_count": 11,
   "id": "3c42fee4-5e97-42d2-9e06-bdb23898dc40",
   "metadata": {},
   "outputs": [
    {
     "data": {
      "text/plain": [
       "-0.4114819190130394"
      ]
     },
     "execution_count": 11,
     "metadata": {},
     "output_type": "execute_result"
    }
   ],
   "source": [
    "s[\"c\"]"
   ]
  },
  {
   "cell_type": "code",
   "execution_count": 12,
   "id": "c6c56d89-c813-407f-b9bd-925a55050db0",
   "metadata": {},
   "outputs": [
    {
     "data": {
      "text/plain": [
       "Index(['a', 'b', 'c', 'd', 'e'], dtype='object')"
      ]
     },
     "execution_count": 12,
     "metadata": {},
     "output_type": "execute_result"
    }
   ],
   "source": [
    "s.keys()"
   ]
  },
  {
   "cell_type": "code",
   "execution_count": 14,
   "id": "c4769f24-1d0c-4f3f-b3c9-50aa77dac4ac",
   "metadata": {},
   "outputs": [
    {
     "data": {
      "text/plain": [
       "array([ True,  True,  True,  True,  True])"
      ]
     },
     "execution_count": 14,
     "metadata": {},
     "output_type": "execute_result"
    }
   ],
   "source": [
    "s.index == s.keys()"
   ]
  },
  {
   "cell_type": "code",
   "execution_count": 16,
   "id": "b22815e9-c4f3-4006-ad0f-f241947d3309",
   "metadata": {},
   "outputs": [
    {
     "data": {
      "text/plain": [
       "<AxesSubplot: >"
      ]
     },
     "execution_count": 16,
     "metadata": {},
     "output_type": "execute_result"
    },
    {
     "data": {
      "image/png": "[encoded data removed]",
      "text/plain": [
       "<Figure size 640x480 with 1 Axes>"
      ]
     },
     "metadata": {},
     "output_type": "display_data"
    }
   ],
   "source": [
    "s = pd.Series(rng.standard_normal(1000))\n",
    "s.hist()"
   ]
  },
  {
   "cell_type": "code",
   "execution_count": 19,
   "id": "e715ffa3-1808-47a0-ae0f-42e81ba677c9",
   "metadata": {},
   "outputs": [],
   "source": [
    "from math import tau\n",
    "df = pd.DataFrame(\n",
    "    {\n",
    "        \"Number\":1.0,\n",
    "        \"String\": \"foo\",\n",
    "        \"Angles\": np.linspace(0, tau, 5),\n",
    "        \"Random\": pd.Series(rng.standard_normal(5)),\n",
    "        \"Timestamp\": pd.Timestamp(\"20221104\"),\n",
    "        \"Size\": pd.Categorical([\"tiny\", \"small\", \"mid\", \"big\", \"huge\"])\n",
    "    })"
   ]
  },
  {
   "cell_type": "code",
   "execution_count": 20,
   "id": "f9473b4d-00e6-4ec3-94a1-332ff37eaf00",
   "metadata": {},
   "outputs": [
    {
     "data": {
      "text/plain": [
       "-0.33408339144717153"
      ]
     },
     "execution_count": 20,
     "metadata": {},
     "output_type": "execute_result"
    }
   ],
   "source": [
    "df[\"Random\"].mean()"
   ]
  },
  {
   "cell_type": "code",
   "execution_count": 21,
   "id": "26f3338b-bf16-45b1-8178-d80997adeaa6",
   "metadata": {},
   "outputs": [
    {
     "data": {
      "text/html": [
       "<div>\n",
       "<style scoped>\n",
       "    .dataframe tbody tr th:only-of-type {\n",
       "        vertical-align: middle;\n",
       "    }\n",
       "\n",
       "    .dataframe tbody tr th {\n",
       "        vertical-align: top;\n",
       "    }\n",
       "\n",
       "    .dataframe thead th {\n",
       "        text-align: right;\n",
       "    }\n",
       "</style>\n",
       "<table border=\"1\" class=\"dataframe\">\n",
       "  <thead>\n",
       "    <tr style=\"text-align: right;\">\n",
       "      <th></th>\n",
       "      <th>Number</th>\n",
       "      <th>Angles</th>\n",
       "      <th>Random</th>\n",
       "    </tr>\n",
       "  </thead>\n",
       "  <tbody>\n",
       "    <tr>\n",
       "      <th>count</th>\n",
       "      <td>5.0</td>\n",
       "      <td>5.000000</td>\n",
       "      <td>5.000000</td>\n",
       "    </tr>\n",
       "    <tr>\n",
       "      <th>mean</th>\n",
       "      <td>1.0</td>\n",
       "      <td>3.141593</td>\n",
       "      <td>-0.334083</td>\n",
       "    </tr>\n",
       "    <tr>\n",
       "      <th>std</th>\n",
       "      <td>0.0</td>\n",
       "      <td>2.483647</td>\n",
       "      <td>0.999164</td>\n",
       "    </tr>\n",
       "    <tr>\n",
       "      <th>min</th>\n",
       "      <td>1.0</td>\n",
       "      <td>0.000000</td>\n",
       "      <td>-1.866281</td>\n",
       "    </tr>\n",
       "    <tr>\n",
       "      <th>25%</th>\n",
       "      <td>1.0</td>\n",
       "      <td>1.570796</td>\n",
       "      <td>-0.519093</td>\n",
       "    </tr>\n",
       "    <tr>\n",
       "      <th>50%</th>\n",
       "      <td>1.0</td>\n",
       "      <td>3.141593</td>\n",
       "      <td>-0.404504</td>\n",
       "    </tr>\n",
       "    <tr>\n",
       "      <th>75%</th>\n",
       "      <td>1.0</td>\n",
       "      <td>4.712389</td>\n",
       "      <td>0.493794</td>\n",
       "    </tr>\n",
       "    <tr>\n",
       "      <th>max</th>\n",
       "      <td>1.0</td>\n",
       "      <td>6.283185</td>\n",
       "      <td>0.625666</td>\n",
       "    </tr>\n",
       "  </tbody>\n",
       "</table>\n",
       "</div>"
      ],
      "text/plain": [
       "       Number    Angles    Random\n",
       "count     5.0  5.000000  5.000000\n",
       "mean      1.0  3.141593 -0.334083\n",
       "std       0.0  2.483647  0.999164\n",
       "min       1.0  0.000000 -1.866281\n",
       "25%       1.0  1.570796 -0.519093\n",
       "50%       1.0  3.141593 -0.404504\n",
       "75%       1.0  4.712389  0.493794\n",
       "max       1.0  6.283185  0.625666"
      ]
     },
     "execution_count": 21,
     "metadata": {},
     "output_type": "execute_result"
    }
   ],
   "source": [
    "df.describe()"
   ]
  },
  {
   "cell_type": "code",
   "execution_count": 22,
   "id": "994ce64c-9a4b-44f0-b0a2-f7e5526702df",
   "metadata": {},
   "outputs": [],
   "source": [
    "sizes = {\"tiny\":4, \"small\":8, \"mid\": 12, \"big\": 16, \"huge\": 24}"
   ]
  },
  {
   "cell_type": "code",
   "execution_count": 23,
   "id": "d20c3351-40ee-4188-bc52-068db5735e45",
   "metadata": {},
   "outputs": [
    {
     "data": {
      "text/plain": [
       "0     4\n",
       "1     8\n",
       "2    12\n",
       "3    16\n",
       "4    24\n",
       "Name: Size, dtype: category\n",
       "Categories (5, int64): [16, 24, 12, 8, 4]"
      ]
     },
     "execution_count": 23,
     "metadata": {},
     "output_type": "execute_result"
    }
   ],
   "source": [
    "df[\"Size\"].map(sizes)"
   ]
  }
 ],
 "metadata": {
  "kernelspec": {
   "display_name": "Python 3 (ipykernel)",
   "language": "python",
   "name": "python3"
  },
  "language_info": {
   "codemirror_mode": {
    "name": "ipython",
    "version": 3
   },
   "file_extension": ".py",
   "mimetype": "text/x-python",
   "name": "python",
   "nbconvert_exporter": "python",
   "pygments_lexer": "ipython3",
   "version": "3.10.12"
  }
 },
 "nbformat": 4,
 "nbformat_minor": 5
}
